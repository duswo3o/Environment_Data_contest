{
 "cells": [
  {
   "cell_type": "code",
   "execution_count": 4,
   "id": "26bc2d17",
   "metadata": {},
   "outputs": [],
   "source": [
    "# !pip install selenium"
   ]
  },
  {
   "cell_type": "code",
   "execution_count": 1,
   "id": "b4f010fd",
   "metadata": {},
   "outputs": [],
   "source": [
    "from selenium.webdriver import Chrome\n",
    "import time\n",
    "import sqlite3\n",
    "from pandas.io import sql\n",
    "import os\n",
    "import pandas as pd"
   ]
  },
  {
   "cell_type": "code",
   "execution_count": 81,
   "id": "0fa76930",
   "metadata": {},
   "outputs": [],
   "source": [
    "from selenium import webdriver\n",
    "\n",
    "options = webdriver.ChromeOptions()\n",
    "options.add_argument(\"--start-maximized\");\n",
    "\n",
    "browser = webdriver.Chrome('chromedriver', options=options)"
   ]
  },
  {
   "cell_type": "code",
   "execution_count": 6,
   "id": "eddb6898",
   "metadata": {},
   "outputs": [],
   "source": [
    "# import selenium\n",
    "# from selenium import webdriver\n",
    "# from selenium.webdriver.common.keys import Keys\n",
    "\n",
    "# # options = webdriver.ChromeOptions()\n",
    "# # options.add_argument(\"--start-maximized\");\n",
    "\n",
    "# # browser = webdriver.Chrome('chromedriver', options=options)\n",
    "\n",
    "# driver = webdriver.Chrome()"
   ]
  },
  {
   "cell_type": "code",
   "execution_count": 82,
   "id": "69727fe8",
   "metadata": {},
   "outputs": [],
   "source": [
    "# 빈용기무인회수기 사이트\n",
    "# url = 'https://www.cosmo.or.kr/home/recyclecollector/recyclecollectorList.do?maxPageItems=10&maxIndexPages=5&searchKey=&searchValue=&menuNo=34&param.resourceCd=01&param.areaCd=&pagerOffset=60'\n",
    "# url = 'https://www.cosmo.or.kr/home/recyclecollector/recyclecollectorList.do?maxPageItems=10&maxIndexPages=5&searchKey=&searchValue=&menuNo=34&param.resourceCd=01&param.areaCd=&pagerOffset=70'\n",
    "url = 'https://www.cosmo.or.kr/home/recyclecollector/recyclecollectorList.do?maxPageItems=10&maxIndexPages=5&searchKey=&searchValue=&menuNo=34&param.resourceCd=01&param.areaCd=&pagerOffset=0'\n",
    "browser.get(url)\n",
    "browser.implicitly_wait(5)"
   ]
  },
  {
   "cell_type": "code",
   "execution_count": 86,
   "id": "ea784c13",
   "metadata": {
    "collapsed": true
   },
   "outputs": [
    {
     "data": {
      "text/html": [
       "<div>\n",
       "<style scoped>\n",
       "    .dataframe tbody tr th:only-of-type {\n",
       "        vertical-align: middle;\n",
       "    }\n",
       "\n",
       "    .dataframe tbody tr th {\n",
       "        vertical-align: top;\n",
       "    }\n",
       "\n",
       "    .dataframe thead th {\n",
       "        text-align: right;\n",
       "    }\n",
       "</style>\n",
       "<table border=\"1\" class=\"dataframe\">\n",
       "  <thead>\n",
       "    <tr style=\"text-align: right;\">\n",
       "      <th></th>\n",
       "      <th>no</th>\n",
       "      <th>지역</th>\n",
       "      <th>매장명</th>\n",
       "      <th>지점명</th>\n",
       "      <th>주소</th>\n",
       "      <th>위도</th>\n",
       "      <th>경도</th>\n",
       "    </tr>\n",
       "  </thead>\n",
       "  <tbody>\n",
       "    <tr>\n",
       "      <th>0</th>\n",
       "      <td>1</td>\n",
       "      <td>서울</td>\n",
       "      <td>홈플러스</td>\n",
       "      <td>영등포점</td>\n",
       "      <td>서울 영등포구 당산로 42</td>\n",
       "      <td>37.5182396969791</td>\n",
       "      <td>126.895880210522</td>\n",
       "    </tr>\n",
       "    <tr>\n",
       "      <th>1</th>\n",
       "      <td>2</td>\n",
       "      <td>서울</td>\n",
       "      <td>하이웨이마트</td>\n",
       "      <td>구의점</td>\n",
       "      <td>서울 광진구 광나루로 516</td>\n",
       "      <td>37.5446133307157</td>\n",
       "      <td>127.086624035232</td>\n",
       "    </tr>\n",
       "    <tr>\n",
       "      <th>2</th>\n",
       "      <td>3</td>\n",
       "      <td>서울</td>\n",
       "      <td>이마트</td>\n",
       "      <td>하월곡점</td>\n",
       "      <td>서울 성북구 종암로 167</td>\n",
       "      <td>37.6050587642973</td>\n",
       "      <td>127.030990445726</td>\n",
       "    </tr>\n",
       "    <tr>\n",
       "      <th>3</th>\n",
       "      <td>4</td>\n",
       "      <td>서울</td>\n",
       "      <td>이마트</td>\n",
       "      <td>은평점</td>\n",
       "      <td>서울 은평구 은평로 111</td>\n",
       "      <td>37.6008254685415</td>\n",
       "      <td>126.920513478627</td>\n",
       "    </tr>\n",
       "    <tr>\n",
       "      <th>4</th>\n",
       "      <td>5</td>\n",
       "      <td>서울</td>\n",
       "      <td>이마트</td>\n",
       "      <td>월계점</td>\n",
       "      <td>서울 노원구 마들로3길 15</td>\n",
       "      <td>37.6265093604229</td>\n",
       "      <td>127.061979778612</td>\n",
       "    </tr>\n",
       "    <tr>\n",
       "      <th>...</th>\n",
       "      <td>...</td>\n",
       "      <td>...</td>\n",
       "      <td>...</td>\n",
       "      <td>...</td>\n",
       "      <td>...</td>\n",
       "      <td>...</td>\n",
       "      <td>...</td>\n",
       "    </tr>\n",
       "    <tr>\n",
       "      <th>71</th>\n",
       "      <td>72</td>\n",
       "      <td>충북</td>\n",
       "      <td>농협</td>\n",
       "      <td>하나로마트 청주점</td>\n",
       "      <td>충북 청주시 상당구 무농정로 32</td>\n",
       "      <td>36.6048173494679</td>\n",
       "      <td>127.507391938401</td>\n",
       "    </tr>\n",
       "    <tr>\n",
       "      <th>72</th>\n",
       "      <td>73</td>\n",
       "      <td>제주</td>\n",
       "      <td>반환수집소</td>\n",
       "      <td>중문동</td>\n",
       "      <td>제주특별자치도 서귀포시 중문상로17번길 3</td>\n",
       "      <td>33.2499671585576</td>\n",
       "      <td>126.42406002378</td>\n",
       "    </tr>\n",
       "    <tr>\n",
       "      <th>73</th>\n",
       "      <td>74</td>\n",
       "      <td>제주</td>\n",
       "      <td>반환수집소</td>\n",
       "      <td>강정동</td>\n",
       "      <td>제주특별자치도 서귀포시 신서로 43</td>\n",
       "      <td>33.2538855247603</td>\n",
       "      <td>126.504810584353</td>\n",
       "    </tr>\n",
       "    <tr>\n",
       "      <th>74</th>\n",
       "      <td>75</td>\n",
       "      <td>전남</td>\n",
       "      <td>이마트</td>\n",
       "      <td>순천점</td>\n",
       "      <td>전남 순천시 팔마로 191</td>\n",
       "      <td>34.9425719076455</td>\n",
       "      <td>127.508450253353</td>\n",
       "    </tr>\n",
       "    <tr>\n",
       "      <th>75</th>\n",
       "      <td>76</td>\n",
       "      <td>전남</td>\n",
       "      <td>농협</td>\n",
       "      <td>동광양점</td>\n",
       "      <td>전남 광양시 공영로 25</td>\n",
       "      <td>34.9364017185471</td>\n",
       "      <td>127.692033541508</td>\n",
       "    </tr>\n",
       "  </tbody>\n",
       "</table>\n",
       "<p>76 rows × 7 columns</p>\n",
       "</div>"
      ],
      "text/plain": [
       "    no  지역     매장명        지점명                       주소                위도  \\\n",
       "0    1  서울    홈플러스       영등포점           서울 영등포구 당산로 42  37.5182396969791   \n",
       "1    2  서울  하이웨이마트        구의점          서울 광진구 광나루로 516  37.5446133307157   \n",
       "2    3  서울     이마트       하월곡점           서울 성북구 종암로 167  37.6050587642973   \n",
       "3    4  서울     이마트        은평점           서울 은평구 은평로 111  37.6008254685415   \n",
       "4    5  서울     이마트        월계점          서울 노원구 마들로3길 15  37.6265093604229   \n",
       "..  ..  ..     ...        ...                      ...               ...   \n",
       "71  72  충북      농협  하나로마트 청주점       충북 청주시 상당구 무농정로 32  36.6048173494679   \n",
       "72  73  제주   반환수집소        중문동  제주특별자치도 서귀포시 중문상로17번길 3  33.2499671585576   \n",
       "73  74  제주   반환수집소        강정동      제주특별자치도 서귀포시 신서로 43  33.2538855247603   \n",
       "74  75  전남     이마트        순천점           전남 순천시 팔마로 191  34.9425719076455   \n",
       "75  76  전남      농협       동광양점            전남 광양시 공영로 25  34.9364017185471   \n",
       "\n",
       "                  경도  \n",
       "0   126.895880210522  \n",
       "1   127.086624035232  \n",
       "2   127.030990445726  \n",
       "3   126.920513478627  \n",
       "4   127.061979778612  \n",
       "..               ...  \n",
       "71  127.507391938401  \n",
       "72   126.42406002378  \n",
       "73  126.504810584353  \n",
       "74  127.508450253353  \n",
       "75  127.692033541508  \n",
       "\n",
       "[76 rows x 7 columns]"
      ]
     },
     "execution_count": 86,
     "metadata": {},
     "output_type": "execute_result"
    }
   ],
   "source": [
    "\n",
    "base_url = 'https://www.cosmo.or.kr/home/recyclecollector/recyclecollectorList.do?maxPageItems=10&maxIndexPages=5&searchKey=&searchValue=&menuNo=34&param.resourceCd=01&param.areaCd=&pagerOffset={}'\n",
    "\n",
    "NO = []\n",
    "loc = []\n",
    "S_NM = []\n",
    "P_NM = []\n",
    "address = []\n",
    "lat = []\n",
    "lng = []\n",
    "\n",
    "\n",
    "for n in [0,10,20,30,40,50,60,70]:\n",
    "    url = base_url.format(n)\n",
    "    res = requests.get(url)\n",
    "    soup = BeautifulSoup(res.text, 'lxml')\n",
    "    location_list = soup.find_all('div', attrs = {'class':'list_td'})\n",
    "\n",
    "    for loc_li in location_list:\n",
    "    #     print(re.split('[\\n\\t]+', title.get_text()))\n",
    "        l = re.split('[\\n\\t]+', loc_li.get_text())\n",
    "        cor = loc_li.find('a')['href'].split(',')\n",
    "        NO.append(l[1])\n",
    "        loc.append(l[2])\n",
    "        S_NM.append(l[3])\n",
    "        P_NM.append(l[4])\n",
    "        address.append(l[5])\n",
    "        lat.append(cor[1])\n",
    "        lng.append(cor[2])\n",
    "    \n",
    "\n",
    "df = pd.DataFrame({'no':NO,\n",
    "               '지역':loc,\n",
    "              '매장명':S_NM,\n",
    "              '지점명':P_NM,\n",
    "              '주소':address,\n",
    "             '위도':lat,\n",
    "             '경도':lng})\n",
    "\n",
    "df"
   ]
  },
  {
   "cell_type": "code",
   "execution_count": 87,
   "id": "77f6c30c",
   "metadata": {},
   "outputs": [],
   "source": [
    "df.to_csv('빈용기무인회수기현황.csv', encoding='cp949')"
   ]
  },
  {
   "cell_type": "code",
   "execution_count": null,
   "id": "8aec4b77",
   "metadata": {},
   "outputs": [],
   "source": [
    "# //*[@id=\"content\"]/div/div[2]/div/div/div/div/div[2]/div/div[2]/div[1]\n",
    "\n",
    "# //*[@id=\"content\"]/div/div[2]/div/div/div/div/div[3]\n",
    "\n",
    "# //*[@id=\"content\"]/div/div[2]/div/div/div/div/div[3]/div/div[2]\n",
    "\n",
    "# //*[@id=\"content\"]/div/div[2]/div/div/div/div/div[2]/div/div[2]/div[5]/text()\n",
    "\n",
    "# //*[@id=\"content\"]/div/div[2]/div/div/div/div/div[3]/div/div[2]/div[5]/text()\n",
    "\n",
    "# //*[@id=\"content\"]/div/div[2]/div/div/div/div/div[11]/div/div[2]/div[5]/text()"
   ]
  },
  {
   "cell_type": "code",
   "execution_count": 93,
   "id": "c8b63576",
   "metadata": {},
   "outputs": [],
   "source": [
    "# trs = browser.find_elements('xpath','//*[@id=\"content\"]/div/div[2]/div/div/div/div/div[2]/div/div[2]')\n",
    "# df_list = []\n",
    "# for tr in trs:\n",
    "#     df = pd.DataFrame({\n",
    "#             'NO': [tr.find_element('xpath','div[1]').text],\n",
    "#             '지역': [tr.find_element('xpath','div[2]').text],\n",
    "#             '매장명': [tr.find_element('xpath','div[3]').text],\n",
    "#             '지점명': [tr.find_element('xpath','div[4]').text],\n",
    "#             '주소': [tr.find_element('xpath','div[5]').text],\n",
    "#         })\n",
    "#     df_list.append(df)\n",
    "    \n",
    "# ARTICLE_LIST = pd.concat(df_list)\n",
    "# # db_save(ARTICLE_LIST)"
   ]
  },
  {
   "cell_type": "code",
   "execution_count": 91,
   "id": "a6297aeb",
   "metadata": {},
   "outputs": [],
   "source": [
    "# trs = browser.find_elements('xpath','//*[@id=\"content\"]/div/div[2]/div/div/div/div/div[2]/div/div[2]')\n",
    "# df_list = []\n",
    "# for tr in trs:\n",
    "#     df = pd.DataFrame({\n",
    "#             'NO': [tr.find_element('xpath','div[1]').text],\n",
    "#             '지역': [tr.find_element('xpath','div[2]').text],\n",
    "#             '매장명': [tr.find_element('xpath','div[3]').text],\n",
    "#             '지점명': [tr.find_element('xpath','div[4]').text],\n",
    "#             '주소': [tr.find_element('xpath','div[5]').text],\n",
    "#         })\n",
    "# #     print(df)\n",
    "#     df_list.append(df)\n",
    "    \n",
    "# ARTICLE_LIST = pd.concat(df_list)\n",
    "# # db_save(ARTICLE_LIST)"
   ]
  },
  {
   "cell_type": "code",
   "execution_count": 92,
   "id": "4a903b92",
   "metadata": {},
   "outputs": [],
   "source": [
    "# ARTICLE_LIST"
   ]
  },
  {
   "cell_type": "code",
   "execution_count": 90,
   "id": "9d7481c5",
   "metadata": {},
   "outputs": [],
   "source": [
    "# from bs4 import BeautifulSoup\n",
    "# import requests\n",
    "\n",
    "# res = requests.get(url)\n",
    "# soup = BeautifulSoup(res.text, 'lxml')"
   ]
  },
  {
   "cell_type": "code",
   "execution_count": 55,
   "id": "bd7906e6",
   "metadata": {
    "collapsed": true
   },
   "outputs": [
    {
     "data": {
      "text/plain": [
       "'\\n1\\n서울\\n홈플러스\\n영등포점\\n\\n\\t\\t\\t\\t\\t\\t\\t\\t\\t\\t서울 영등포구 당산로 42\\n\\t\\t\\t\\t\\t\\t\\t\\t\\t\\t\\n\\t\\t\\t\\t\\t\\t\\t\\t\\t\\t\\t\\n\\n'"
      ]
     },
     "execution_count": 55,
     "metadata": {},
     "output_type": "execute_result"
    }
   ],
   "source": [
    "# titles[0].get_text()"
   ]
  },
  {
   "cell_type": "code",
   "execution_count": 63,
   "id": "8cccdc1b",
   "metadata": {
    "collapsed": true
   },
   "outputs": [
    {
     "data": {
      "text/plain": [
       "<div class=\"list_td\">\n",
       "<div>1</div>\n",
       "<div>서울</div>\n",
       "<div>홈플러스</div>\n",
       "<div>영등포점</div>\n",
       "<div>\n",
       "\t\t\t\t\t\t\t\t\t\t서울 영등포구 당산로 42\n",
       "\t\t\t\t\t\t\t\t\t\t\n",
       "\t\t\t\t\t\t\t\t\t\t\t<a class=\"place\" href=\"https://map.kakao.com/link/map/홈플러스-영등포점,37.5182396969791,126.895880210522\" target=\"_blank\" title=\"지도보기\"></a>\n",
       "</div>\n",
       "</div>"
      ]
     },
     "execution_count": 63,
     "metadata": {},
     "output_type": "execute_result"
    }
   ],
   "source": [
    "# titles = soup.find_all('div', attrs = {'class':'list_td'})\n",
    "# # titles.find_all('href', attrs = {'class':'place'})\n",
    "# titles[0]\n",
    "\n",
    "# # for title in titles:\n",
    "# #     print(title.get_text())"
   ]
  },
  {
   "cell_type": "code",
   "execution_count": null,
   "id": "2072eae5",
   "metadata": {},
   "outputs": [],
   "source": [
    "# titles = soup.find_all('div', attrs = {'class':'list_td'})\n",
    "# t"
   ]
  },
  {
   "cell_type": "code",
   "execution_count": 74,
   "id": "a52762c3",
   "metadata": {
    "collapsed": true
   },
   "outputs": [
    {
     "data": {
      "text/plain": [
       "['https://map.kakao.com/link/map/홈플러스-영등포점',\n",
       " '37.5182396969791',\n",
       " '126.895880210522']"
      ]
     },
     "execution_count": 74,
     "metadata": {},
     "output_type": "execute_result"
    }
   ],
   "source": [
    "# titles[0].find('a')['href'].split(',')"
   ]
  },
  {
   "cell_type": "code",
   "execution_count": null,
   "id": "04c9f84d",
   "metadata": {},
   "outputs": [],
   "source": []
  },
  {
   "cell_type": "code",
   "execution_count": 89,
   "id": "d58ad254",
   "metadata": {},
   "outputs": [],
   "source": [
    "# import re\n",
    "\n",
    "# NO = []\n",
    "# loc = []\n",
    "# S_NM = []\n",
    "# P_NM = []\n",
    "# address = []\n",
    "# lat = []\n",
    "# lng = []\n",
    "\n",
    "# for title in titles:\n",
    "# #     print(re.split('[\\n\\t]+', title.get_text()))\n",
    "#     l = re.split('[\\n\\t]+', title.get_text())\n",
    "#     cor = title.find('a')['href'].split(',')\n",
    "#     NO.append(l[1])\n",
    "#     loc.append(l[2])\n",
    "#     S_NM.append(l[3])\n",
    "#     P_NM.append(l[4])\n",
    "#     address.append(l[5])\n",
    "#     lat.append(cor[1])\n",
    "#     lng.append(cor[2])"
   ]
  },
  {
   "cell_type": "code",
   "execution_count": 88,
   "id": "f0e289fd",
   "metadata": {},
   "outputs": [],
   "source": [
    "# df = pd.DataFrame({'no':NO,\n",
    "#                    '지역':loc,\n",
    "#                   '매장명':S_NM,\n",
    "#                   '지점명':P_NM,\n",
    "#                   '주소':address,\n",
    "#                  '위도':lat,\n",
    "#                  '경도':lng})\n",
    "\n",
    "# df"
   ]
  },
  {
   "cell_type": "code",
   "execution_count": null,
   "id": "b61c1230",
   "metadata": {},
   "outputs": [],
   "source": []
  }
 ],
 "metadata": {
  "kernelspec": {
   "display_name": "Python 3 (ipykernel)",
   "language": "python",
   "name": "python3"
  },
  "language_info": {
   "codemirror_mode": {
    "name": "ipython",
    "version": 3
   },
   "file_extension": ".py",
   "mimetype": "text/x-python",
   "name": "python",
   "nbconvert_exporter": "python",
   "pygments_lexer": "ipython3",
   "version": "3.9.12"
  }
 },
 "nbformat": 4,
 "nbformat_minor": 5
}
